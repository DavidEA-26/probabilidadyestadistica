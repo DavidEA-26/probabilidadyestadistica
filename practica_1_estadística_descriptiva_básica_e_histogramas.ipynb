{
  "nbformat": 4,
  "nbformat_minor": 0,
  "metadata": {
    "colab": {
      "provenance": [],
      "authorship_tag": "ABX9TyOT4Ifye3boEvFts9KfFXnY",
      "include_colab_link": true
    },
    "kernelspec": {
      "name": "python3",
      "display_name": "Python 3"
    },
    "language_info": {
      "name": "python"
    }
  },
  "cells": [
    {
      "cell_type": "markdown",
      "metadata": {
        "id": "view-in-github",
        "colab_type": "text"
      },
      "source": [
        "<a href=\"https://colab.research.google.com/github/DavidEA-26/probabilidadyestadistica/blob/main/practica_1_estad%C3%ADstica_descriptiva_b%C3%A1sica_e_histogramas.ipynb\" target=\"_parent\"><img src=\"https://colab.research.google.com/assets/colab-badge.svg\" alt=\"Open In Colab\"/></a>"
      ]
    },
    {
      "cell_type": "code",
      "execution_count": 4,
      "metadata": {
        "colab": {
          "base_uri": "https://localhost:8080/",
          "height": 106
        },
        "id": "Lnr0EhfBvhGU",
        "outputId": "3e0dd786-a4ca-49a9-a205-c03fb335593c"
      },
      "outputs": [
        {
          "output_type": "error",
          "ename": "IndentationError",
          "evalue": "unexpected indent (<ipython-input-4-3400ab9425d8>, line 3)",
          "traceback": [
            "\u001b[0;36m  File \u001b[0;32m\"<ipython-input-4-3400ab9425d8>\"\u001b[0;36m, line \u001b[0;32m3\u001b[0m\n\u001b[0;31m    grupoa =[70, 70, 65, 90, 100, 95, 45, 80, 73, 20, 100, 96]\u001b[0m\n\u001b[0m    ^\u001b[0m\n\u001b[0;31mIndentationError\u001b[0m\u001b[0;31m:\u001b[0m unexpected indent\n"
          ]
        }
      ],
      "source": [
        "from statistics import *\n",
        "    # lista de calificaciones del grupo a probabilidad y estsadistica\n",
        "    grupoa = [70, 70, 65, 90, 100, 95, 45, 80, 73, 20, 100 , 96]\n",
        "    print(grupoa)\n",
        "    [70, 70, 65, 90, 100, 95, 45, 80, 73, 20, 100, 96]\n",
        "    promedio2 = mean(grupoa)\n",
        "    print(promedio2)\n",
        "\n",
        ""
      ]
    },
    {
      "cell_type": "code",
      "source": [
        "from statistics import *\n",
        "# lista de calificaciones del grupo a probabilidad y estsadistica\n",
        "grupoa = [70, 70, 65, 90, 100, 95, 45, 80, 73, 20, 100, 96]\n",
        "print(\"el promedio del grupo es =>\", mean(grupoa))\n",
        "mediana = median(grupoa)\n",
        "print(\"la mediana del grupo es =>\", mediana)\n",
        "moda = mode(\"grupoa\")\n",
        "print(\"la moda del grupo es =>\", moda)\n",
        "#cuando hay mas de una moda se pone multimodas en lugar de moda\n",
        "[70, 70, 65, 90, 100, 95, 45, 80, 73, 20, 100, 96]\n",
        "\n",
        "moda2  = multimode(grupoa)\n",
        "print(moda2)"
      ],
      "metadata": {
        "colab": {
          "base_uri": "https://localhost:8080/"
        },
        "id": "gbd4_OpWzvTq",
        "outputId": "31a12245-84f7-44e5-efbf-d1cd7766a6f7"
      },
      "execution_count": 14,
      "outputs": [
        {
          "output_type": "stream",
          "name": "stdout",
          "text": [
            "el promedio del grupo es => 75.33333333333333\n",
            "la mediana del grupo es => 76.5\n",
            "la moda del grupo es => g\n",
            "[70, 100]\n"
          ]
        }
      ]
    },
    {
      "cell_type": "code",
      "source": [],
      "metadata": {
        "id": "2lOZdFuV3WlO"
      },
      "execution_count": null,
      "outputs": []
    },
    {
      "cell_type": "code",
      "source": [
        "tiempos100mts = [15.10, 17.20, 14.69, 13.27, 22.15, 18.71, 19.15, 20.65, 15.10, 17.20]\n",
        "\n",
        "print(tiempos100mts)\n",
        "print(\"el tiempo promedio de los corredores es =>\", mean(tiempos100mts))\n",
        "mediana = median(tiempos100mts)\n",
        "print(\"la mediana de los tiempos de los corredores  es =>\", mediana)\n",
        "moda = mode (tiempos100mts)\n",
        "print(\"la moda de los tiemmpos es=>\", moda )\n",
        "#cuando hay mas de una moda se pone multimodas en lugar de moda\n",
        "\n"
      ],
      "metadata": {
        "colab": {
          "base_uri": "https://localhost:8080/"
        },
        "id": "IM6DbiTt0bp2",
        "outputId": "f0b6a331-873d-4048-b3e6-a819d6380680"
      },
      "execution_count": 13,
      "outputs": [
        {
          "output_type": "stream",
          "name": "stdout",
          "text": [
            "[15.1, 17.2, 14.69, 13.27, 22.15, 18.71, 19.15, 20.65, 15.1, 17.2]\n",
            "el tiempo promedio de los corredores es => 17.322\n",
            "la mediana de los tiempos de los corredores  es => 17.2\n",
            "la moda de los tiemmpos es=> 15.1\n"
          ]
        }
      ]
    },
    {
      "cell_type": "code",
      "source": [
        "import random\n",
        "fabrica1 = []\n",
        "for i in range(100):\n",
        "    numero_aleatorio = round( random.uniform(50, 100), 2)\n",
        "    fabrica1.append(numero_aleatorio)\n",
        "print(fabrica1)"
      ],
      "metadata": {
        "colab": {
          "base_uri": "https://localhost:8080/"
        },
        "id": "ZhRzUfzN3YJ1",
        "outputId": "5ff2848f-ad9a-4751-99fb-e6bd861ef84d"
      },
      "execution_count": 17,
      "outputs": [
        {
          "output_type": "stream",
          "name": "stdout",
          "text": [
            "[51.66, 83.14, 71.97, 82.66, 69.15, 54.92, 51.27, 94.18, 82.97, 79.03, 58.88, 87.13, 99.68, 83.41, 93.72, 99.03, 75.13, 68.73, 62.55, 85.29, 84.75, 81.84, 97.08, 77.71, 93.08, 82.59, 70.16, 92.81, 94.53, 56.59, 57.45, 69.87, 68.21, 66.81, 65.53, 73.7, 75.42, 87.5, 84.65, 87.73, 68.0, 94.64, 85.75, 82.95, 80.06, 94.08, 75.55, 78.86, 81.8, 82.85, 94.58, 83.67, 92.19, 52.19, 57.15, 66.57, 51.94, 95.32, 73.53, 84.19, 96.83, 67.47, 76.6, 61.27, 97.64, 71.28, 79.16, 70.79, 73.96, 87.27, 86.25, 54.24, 78.68, 99.45, 50.23, 57.12, 76.18, 65.08, 96.67, 52.66, 79.75, 75.9, 87.13, 67.39, 62.68, 93.97, 94.01, 68.32, 74.27, 77.86, 90.34, 93.56, 81.22, 62.96, 56.61, 98.94, 85.36, 96.05, 53.98, 63.35]\n"
          ]
        }
      ]
    },
    {
      "cell_type": "code",
      "source": [
        "import random\n",
        "fabrica2 = []\n",
        "for i in range(100):\n",
        "    numero_aleatorio = round( random.uniform(50, 100), 2)\n",
        "    fabrica2.append(numero_aleatorio)\n",
        "print(fabrica2)\n",
        "\n",
        "import matplotlib.pyplot as plt\n",
        "[  ] plt.hist(fabrica2)\n",
        "     plt.title(\"produccion diaria de la fabrica 2\")\n"
      ],
      "metadata": {
        "colab": {
          "base_uri": "https://localhost:8080/",
          "height": 106
        },
        "id": "0ORG47qT4rbd",
        "outputId": "b62f5f65-85f3-42cc-d2e3-008e97ed42af"
      },
      "execution_count": 23,
      "outputs": [
        {
          "output_type": "error",
          "ename": "SyntaxError",
          "evalue": "invalid syntax (<ipython-input-23-d9cd1eee8fde>, line 8)",
          "traceback": [
            "\u001b[0;36m  File \u001b[0;32m\"<ipython-input-23-d9cd1eee8fde>\"\u001b[0;36m, line \u001b[0;32m8\u001b[0m\n\u001b[0;31m    [  ] plt.hist(fabrica2)\u001b[0m\n\u001b[0m         ^\u001b[0m\n\u001b[0;31mSyntaxError\u001b[0m\u001b[0;31m:\u001b[0m invalid syntax\n"
          ]
        }
      ]
    }
  ]
}